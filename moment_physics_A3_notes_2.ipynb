{
 "cells": [
  {
   "cell_type": "markdown",
   "metadata": {},
   "source": [
    "# Equations of an oscillating DCA cascade"
   ]
  },
  {
   "cell_type": "markdown",
   "metadata": {},
   "source": [
    "Consider the circle forming the arc of the suction or pressure surface $Q$, where $Q = S\\ \\mathrm{or}\\ P$ respectively of blade $n$, where $ n = 0, \\pm 1$. It has a radius of $R_{Qn}$ and its center is at $(x_{Qn}, y_{Qn})$, as per the the global coordinate system $(x, y)$. Also, consider another \"local\" coordinate system centered at $(x_{Ln}, y_{Ln})$, using which the surfaces $P$ and $S$ of blade $n$ may be defined; this coordinate system is common for pressure and suction surfaces (hence does not carry index $Q$) and coincides with the midpoint of the blade's camberline. The coordinates for global system are $(x, y)$ and those for local system are $(x', y')$. The equation of the circle in this local coordinate system is given by:\n",
    "$$\n",
    "[x' - (x_{Qn} - x_{Ln})]^2 + [y' - (y_{Qn} - y_{Ln})]^2 = R_{Qn}^2\n",
    "$$\n",
    "\n",
    "In parametric form, the abscissa and ordinate are, with $\\theta = 0$ to $2\\pi$:\n",
    "$$\n",
    "x' = (x_{Qn} - x_{Ln}) + R_{Qn}\\cos\\theta \\\\\n",
    "y' = (y_{Qn} - y_{Ln}) + R_{Qn}\\sin\\theta\n",
    "$$\n",
    "\n",
    "Now, suppose, the circle is rotated about $(x_{Tn}, y_{Tn})$ counter-clockwise by an amount $\\alpha_n = A\\sin(\\omega t + n\\sigma)$. We first seek its equation in the local and then the global cooordinate systems.\n",
    "\n",
    "Suppose a point $E = (x', y')$ is rotated by $\\alpha_n$ about another point whose (local) coordinate is $(x_{Tn} - x_{Ln}, y_{Tn} - y_{Ln})$ is moved to a new location F. The coordinates of $F = (x'', y'')$ in the _local_ coordinate system is given by:\n",
    "$$\n",
    "x'' = [x' + (x_{Ln} - x_{Tn})]\\cos(\\alpha_n) - [y' + (y_{Ln} - y_{Tn})]\\sin(\\alpha_n) - (x_{Ln} - x_{Tn}) \\\\\n",
    "y'' = [x' + (x_{Ln} - x_{Tn})]\\sin(\\alpha_n) + [y' + (y_{Ln} - y_{Tn})]\\cos(\\alpha_n) - (y_{Ln} - y_{Tn})\n",
    "$$\n",
    "\n",
    "In the global coordinate system, they are given by:\n",
    "$$\n",
    "x = [x' + (x_{Ln} - x_{Tn})]\\cos(\\alpha_n) - [y' + (y_{Ln} - y_{Tn})]\\sin(\\alpha_n) - (x_{Ln} - x_{Tn}) + x_{Ln} \\\\\n",
    "y = [x' + (x_{Ln} - x_{Tn})]\\sin(\\alpha_n) + [y' + (y_{Ln} - y_{Tn})]\\cos(\\alpha_n) - (y_{Ln} - y_{Tn}) + y_{Ln}\n",
    "$$\n",
    "\n",
    "Simplifying,\n",
    "$$\n",
    "x = [(x_{Qn} - x_{Ln}) + R_{Qn}\\cos\\theta + (x_{Ln} - x_{Tn})]\\cos(\\alpha_n) - [(y_{Qn} - y_{Ln}) + R_{Qn}\\sin\\theta + (y_{Ln} - y_{Tn})]\\sin(\\alpha_n) + x_{Tn} \\\\\n",
    "y = [(x_{Qn} - x_{Ln}) + R_{Qn}\\cos\\theta + (x_{Ln} - x_{Tn})]\\sin(\\alpha_n) + [(y_{Qn} - y_{Ln}) + R_{Qn}\\sin\\theta + (y_{Ln} - y_{Tn})]\\cos(\\alpha_n) + y_{Tn}\n",
    "$$\n",
    "\n",
    "Simplifying further,\n",
    "$$\n",
    "x = [x_{Qn} + R_{Qn}\\cos\\theta - x_{Tn}]\\cos(\\alpha_n) - [y_{Qn} + R_{Qn}\\sin\\theta - y_{Tn}]\\sin(\\alpha_n) + x_{Tn} \\\\\n",
    "y = [x_{Qn} + R_{Qn}\\cos\\theta - x_{Tn}]\\sin(\\alpha_n) + [y_{Qn} + R_{Qn}\\sin\\theta - y_{Tn}]\\cos(\\alpha_n) + y_{Tn}\n",
    "$$\n"
   ]
  },
  {
   "cell_type": "markdown",
   "metadata": {},
   "source": [
    "![alt text](schem_mod1.jpg \"Figure 1\")"
   ]
  },
  {
   "cell_type": "code",
   "execution_count": 16,
   "metadata": {},
   "outputs": [],
   "source": [
    "import numpy as np\n",
    "import math\n",
    "import matplotlib.pyplot as plt\n",
    "%matplotlib inline\n",
    "import sympy as sp\n",
    "sp.init_printing()\n",
    "import datetime\n",
    "x, y, θ, α_n, α_0, α_p1, α_m1, x_Tn, y_Tn, x_Ln, y_Ln, x_Qn, y_Qn, R_Qn = sp.symbols('x, y, θ, α_n, α_0, α_{p1}, α_{m1}, x_{Tn}, y_{Tn}, x_{Ln}, y_{Ln}, x_{Qn}, y_{Qn}, R_{Qn}')\n",
    "tStart = datetime.datetime.now()\n"
   ]
  },
  {
   "cell_type": "code",
   "execution_count": 17,
   "metadata": {},
   "outputs": [
    {
     "name": "stdout",
     "output_type": "stream",
     "text": [
      "BEQ_S_30_sc_0.50_U35_F02_A02_\n",
      "Red freq = 0.35903916041026207\n"
     ]
    }
   ],
   "source": [
    "Stag_deg = 30\n",
    "s_c = 0.5\n",
    "Uref = 35\n",
    "Freq = 2\n",
    "Amp = 2\n",
    "Code = 'BEQ'\n",
    "FilePref = (Code + \"_S_%02d_sc_%03.2f_U%02d_F%02d_A%02d_\") % (Stag_deg, s_c, Uref, Freq, Amp)\n",
    "A1, A2, A3 = 1, 1, 1\n",
    "\n",
    "CycNums = 3\n",
    "StepsPerCyc = 200\n",
    "StepsPerChord = 100\n",
    "Stag = Stag_deg*math.pi/180\n",
    "ibpa_all = np.linspace(0,360,14,endpoint=False)\n",
    "ibpa_all[0] = 1\n",
    "ibpa_all = [180]    ########################@@@@@@@@@@@@@@@    for diagnostics\n",
    "print(FilePref)\n",
    "delX = s_c*np.sin(Stag)\n",
    "delY = s_c*np.cos(Stag)\n",
    "print('Red freq = ' + str(2*math.pi*Freq*1/Uref))"
   ]
  },
  {
   "cell_type": "markdown",
   "metadata": {},
   "source": [
    "Now, we create the appropriate Python symbolic expressions:"
   ]
  },
  {
   "cell_type": "code",
   "execution_count": 18,
   "metadata": {},
   "outputs": [
    {
     "data": {
      "image/png": "[encoded data removed]",
      "text/latex": [
       "$$\\left ( x_{Tn} - \\left(R_{Qn} \\sin{\\left (θ \\right )} + y_{Qn} - y_{Tn}\\right) \\sin{\\left (α_{n} \\right )} + \\left(R_{Qn} \\cos{\\left (θ \\right )} + x_{Qn} - x_{Tn}\\right) \\cos{\\left (α_{n} \\right )}, \\quad y_{Tn} + \\left(R_{Qn} \\sin{\\left (θ \\right )} + y_{Qn} - y_{Tn}\\right) \\cos{\\left (α_{n} \\right )} + \\left(R_{Qn} \\cos{\\left (θ \\right )} + x_{Qn} - x_{Tn}\\right) \\sin{\\left (α_{n} \\right )}\\right )$$"
      ],
      "text/plain": [
       "(x_{Tn} - (R_{Qn}⋅sin(θ) + y_{Qn} - y_{Tn})⋅sin(αₙ) + (R_{Qn}⋅cos(θ) + x_{Qn} \n",
       "- x_{Tn})⋅cos(αₙ), y_{Tn} + (R_{Qn}⋅sin(θ) + y_{Qn} - y_{Tn})⋅cos(αₙ) + (R_{Qn\n",
       "}⋅cos(θ) + x_{Qn} - x_{Tn})⋅sin(αₙ))"
      ]
     },
     "execution_count": 18,
     "metadata": {},
     "output_type": "execute_result"
    }
   ],
   "source": [
    "x = ((x_Qn - x_Ln) + R_Qn*sp.cos(θ) + (x_Ln - x_Tn))*sp.cos(α_n) - ((y_Qn - y_Ln) + R_Qn*sp.sin(θ) + (y_Ln - y_Tn))*sp.sin(α_n) + x_Tn\n",
    "y = ((x_Qn - x_Ln) + R_Qn*sp.cos(θ) + (x_Ln - x_Tn))*sp.sin(α_n) + ((y_Qn - y_Ln) + R_Qn*sp.sin(θ) + (y_Ln - y_Tn))*sp.cos(α_n) + y_Tn\n",
    "\n",
    "\n",
    "xS, yS = 0.0, -2.30232582401\n",
    "xP, yP = 0.0, -8.36178245685\n",
    "RS, RP = 2.32982692659, 8.33466051773\n",
    "\n",
    "xdTL, ydTL = 0, 0   # x and y distance between T and L (for pure torsion (0,0); for pure bending (-infinity,0);)\n",
    "\n",
    "x_Lm1,y_Lm1,x_Sm1,y_Sm1,R_Sm1,x_Pm1,y_Pm1,R_Pm1=  delX,  delY, xS + delX, yS + delY, RS, xP + delX, yP+ delY, RP\n",
    "x_L0, y_L0, x_S0, y_S0, R_S0, x_P0, y_P0, R_P0 =  0.0 ,   0.0, xS, yS, RS, xP, yP, RP\n",
    "x_Lp1,y_Lp1,x_Sp1,y_Sp1,R_Sp1,x_Pp1,y_Pp1,R_Pp1= -delX, -delY, xS - delX, yS - delY, RS, xP - delX, yP - delY, RP\n",
    "\n",
    "x_Tm1, y_Tm1= x_Lm1+ xdTL , y_Lm1+ ydTL\n",
    "x_T0 , y_T0 = x_L0 + xdTL , y_L0 + ydTL\n",
    "x_Tp1, y_Tp1= x_Lp1+ xdTL , y_Lp1+ ydTL\n",
    "\n",
    "θvec = np.linspace(0, np.pi, 100)\n",
    "x, y"
   ]
  },
  {
   "cell_type": "code",
   "execution_count": 21,
   "metadata": {},
   "outputs": [
    {
     "data": {
      "image/png": "[encoded data removed]",
      "text/latex": [
       "$$x_{Qn} \\sin{\\left (α_{n} \\right )} - x_{Tn} \\sin{\\left (α_{n} \\right )} + y_{Qn} \\cos{\\left (α_{n} \\right )} - y_{Tn} \\cos{\\left (α_{n} \\right )} + y_{Tn} + \\frac{\\sqrt{2}}{2} \\sqrt{2 R_{Qn}^{2} - 2 x_{1}^{2} + 4 x_{1} x_{Qn} \\cos{\\left (α_{n} \\right )} - 4 x_{1} x_{Tn} \\cos{\\left (α_{n} \\right )} + 4 x_{1} x_{Tn} - 4 x_{1} y_{Qn} \\sin{\\left (α_{n} \\right )} + 4 x_{1} y_{Tn} \\sin{\\left (α_{n} \\right )} - x_{Qn}^{2} \\cos{\\left (2 α_{n} \\right )} - x_{Qn}^{2} - 4 x_{Qn} x_{Tn} \\cos{\\left (α_{n} \\right )} + 2 x_{Qn} x_{Tn} \\cos{\\left (2 α_{n} \\right )} + 2 x_{Qn} x_{Tn} + 2 x_{Qn} y_{Qn} \\sin{\\left (2 α_{n} \\right )} - 2 x_{Qn} y_{Tn} \\sin{\\left (2 α_{n} \\right )} + 4 x_{Tn}^{2} \\cos{\\left (α_{n} \\right )} - x_{Tn}^{2} \\cos{\\left (2 α_{n} \\right )} - 3 x_{Tn}^{2} + 4 x_{Tn} y_{Qn} \\sin{\\left (α_{n} \\right )} - 2 x_{Tn} y_{Qn} \\sin{\\left (2 α_{n} \\right )} - 4 x_{Tn} y_{Tn} \\sin{\\left (α_{n} \\right )} + 2 x_{Tn} y_{Tn} \\sin{\\left (2 α_{n} \\right )} + y_{Qn}^{2} \\cos{\\left (2 α_{n} \\right )} - y_{Qn}^{2} - 2 y_{Qn} y_{Tn} \\cos{\\left (2 α_{n} \\right )} + 2 y_{Qn} y_{Tn} + y_{Tn}^{2} \\cos{\\left (2 α_{n} \\right )} - y_{Tn}^{2}}$$"
      ],
      "text/plain": [
       "                                                                              \n",
       "                                                                              \n",
       "                                                                             √\n",
       "x_{Qn}⋅sin(αₙ) - x_{Tn}⋅sin(αₙ) + y_{Qn}⋅cos(αₙ) - y_{Tn}⋅cos(αₙ) + y_{Tn} + ─\n",
       "                                                                              \n",
       "\n",
       "     _________________________________________________________________________\n",
       "    ╱         2       2                                                       \n",
       "2⋅╲╱  2⋅R_{Qn}  - 2⋅x₁  + 4⋅x₁⋅x_{Qn}⋅cos(αₙ) - 4⋅x₁⋅x_{Tn}⋅cos(αₙ) + 4⋅x₁⋅x_{\n",
       "──────────────────────────────────────────────────────────────────────────────\n",
       "                                                                              \n",
       "\n",
       "______________________________________________________________________________\n",
       "                                                        2                   2 \n",
       "Tn} - 4⋅x₁⋅y_{Qn}⋅sin(αₙ) + 4⋅x₁⋅y_{Tn}⋅sin(αₙ) - x_{Qn} ⋅cos(2⋅αₙ) - x_{Qn}  \n",
       "──────────────────────────────────────────────────────────────────────────────\n",
       "                                                                              \n",
       "\n",
       "______________________________________________________________________________\n",
       "                                                                              \n",
       "- 4⋅x_{Qn}⋅x_{Tn}⋅cos(αₙ) + 2⋅x_{Qn}⋅x_{Tn}⋅cos(2⋅αₙ) + 2⋅x_{Qn}⋅x_{Tn} + 2⋅x_\n",
       "──────────────────────────────────────────────────────────────────────────────\n",
       "                                                                              \n",
       "\n",
       "______________________________________________________________________________\n",
       "                                                            2                 \n",
       "{Qn}⋅y_{Qn}⋅sin(2⋅αₙ) - 2⋅x_{Qn}⋅y_{Tn}⋅sin(2⋅αₙ) + 4⋅x_{Tn} ⋅cos(αₙ) - x_{Tn}\n",
       "──────────────────────────────────────────────────────────────────────────────\n",
       "                                        2                                     \n",
       "\n",
       "______________________________________________________________________________\n",
       "2                     2                                                       \n",
       " ⋅cos(2⋅αₙ) - 3⋅x_{Tn}  + 4⋅x_{Tn}⋅y_{Qn}⋅sin(αₙ) - 2⋅x_{Tn}⋅y_{Qn}⋅sin(2⋅αₙ) \n",
       "──────────────────────────────────────────────────────────────────────────────\n",
       "                                                                              \n",
       "\n",
       "______________________________________________________________________________\n",
       "                                                              2               \n",
       "- 4⋅x_{Tn}⋅y_{Tn}⋅sin(αₙ) + 2⋅x_{Tn}⋅y_{Tn}⋅sin(2⋅αₙ) + y_{Qn} ⋅cos(2⋅αₙ) - y_\n",
       "──────────────────────────────────────────────────────────────────────────────\n",
       "                                                                              \n",
       "\n",
       "______________________________________________________________________________\n",
       "    2                                                       2                 \n",
       "{Qn}  - 2⋅y_{Qn}⋅y_{Tn}⋅cos(2⋅αₙ) + 2⋅y_{Qn}⋅y_{Tn} + y_{Tn} ⋅cos(2⋅αₙ) - y_{T\n",
       "──────────────────────────────────────────────────────────────────────────────\n",
       "                                                                              \n",
       "\n",
       "____\n",
       "  2 \n",
       "n}  \n",
       "────\n",
       "    "
      ]
     },
     "execution_count": 21,
     "metadata": {},
     "output_type": "execute_result"
    }
   ],
   "source": [
    "# get an equation in terms of x and y (eliminate θ)\n",
    "S_θ, C_θ, x_1, y_1 = sp.symbols('S_θ, C_θ, x_1, y_1')\n",
    "eq1 = sp.Eq(-R_Qn*sp.sin(α_n)*S_θ + R_Qn*sp.cos(α_n)*C_θ , x_1 - x_Tn - (x_Qn - x_Tn)*sp.cos(α_n) + (y_Qn - y_Tn)*sp.sin(α_n))\n",
    "eq2 = sp.Eq(+R_Qn*sp.cos(α_n)*S_θ + R_Qn*sp.sin(α_n)*C_θ , y_1 - y_Tn - (y_Qn - y_Tn)*sp.cos(α_n) - (x_Qn - x_Tn)*sp.sin(α_n))\n",
    "(eq1, eq2)\n",
    "sols = sp.solve([eq1, eq2], [C_θ, S_θ])\n",
    "eq3 = sp.Eq(sols[C_θ]**2 + sols[S_θ]**2, 1)\n",
    "g2 = sp.solve(eq3, y_1)\n",
    "g2[1]    # the root in the upper hemisphere of circle\n"
   ]
  },
  {
   "cell_type": "code",
   "execution_count": 22,
   "metadata": {},
   "outputs": [
    {
     "data": {
      "image/png": "[encoded data removed]",
      "text/latex": [
       "$$\\frac{\\sqrt{2} \\left(- 2 x_{1} + 2 x_{Qn} \\cos{\\left (α_{n} \\right )} - 2 x_{Tn} \\cos{\\left (α_{n} \\right )} + 2 x_{Tn} - 2 y_{Qn} \\sin{\\left (α_{n} \\right )} + 2 y_{Tn} \\sin{\\left (α_{n} \\right )}\\right)}{2 \\sqrt{2 R_{Qn}^{2} - 2 x_{1}^{2} + 4 x_{1} x_{Qn} \\cos{\\left (α_{n} \\right )} - 4 x_{1} x_{Tn} \\cos{\\left (α_{n} \\right )} + 4 x_{1} x_{Tn} - 4 x_{1} y_{Qn} \\sin{\\left (α_{n} \\right )} + 4 x_{1} y_{Tn} \\sin{\\left (α_{n} \\right )} - x_{Qn}^{2} \\cos{\\left (2 α_{n} \\right )} - x_{Qn}^{2} - 4 x_{Qn} x_{Tn} \\cos{\\left (α_{n} \\right )} + 2 x_{Qn} x_{Tn} \\cos{\\left (2 α_{n} \\right )} + 2 x_{Qn} x_{Tn} + 2 x_{Qn} y_{Qn} \\sin{\\left (2 α_{n} \\right )} - 2 x_{Qn} y_{Tn} \\sin{\\left (2 α_{n} \\right )} + 4 x_{Tn}^{2} \\cos{\\left (α_{n} \\right )} - x_{Tn}^{2} \\cos{\\left (2 α_{n} \\right )} - 3 x_{Tn}^{2} + 4 x_{Tn} y_{Qn} \\sin{\\left (α_{n} \\right )} - 2 x_{Tn} y_{Qn} \\sin{\\left (2 α_{n} \\right )} - 4 x_{Tn} y_{Tn} \\sin{\\left (α_{n} \\right )} + 2 x_{Tn} y_{Tn} \\sin{\\left (2 α_{n} \\right )} + y_{Qn}^{2} \\cos{\\left (2 α_{n} \\right )} - y_{Qn}^{2} - 2 y_{Qn} y_{Tn} \\cos{\\left (2 α_{n} \\right )} + 2 y_{Qn} y_{Tn} + y_{Tn}^{2} \\cos{\\left (2 α_{n} \\right )} - y_{Tn}^{2}}}$$"
      ],
      "text/plain": [
       "                                                                              \n",
       "──────────────────────────────────────────────────────────────────────────────\n",
       "     _________________________________________________________________________\n",
       "    ╱         2       2                                                       \n",
       "2⋅╲╱  2⋅R_{Qn}  - 2⋅x₁  + 4⋅x₁⋅x_{Qn}⋅cos(αₙ) - 4⋅x₁⋅x_{Tn}⋅cos(αₙ) + 4⋅x₁⋅x_{\n",
       "\n",
       "                                                                              \n",
       "──────────────────────────────────────────────────────────────────────────────\n",
       "______________________________________________________________________________\n",
       "                                                        2                   2 \n",
       "Tn} - 4⋅x₁⋅y_{Qn}⋅sin(αₙ) + 4⋅x₁⋅y_{Tn}⋅sin(αₙ) - x_{Qn} ⋅cos(2⋅αₙ) - x_{Qn}  \n",
       "\n",
       "                                                                      √2⋅(-2⋅x\n",
       "──────────────────────────────────────────────────────────────────────────────\n",
       "______________________________________________________________________________\n",
       "                                                                              \n",
       "- 4⋅x_{Qn}⋅x_{Tn}⋅cos(αₙ) + 2⋅x_{Qn}⋅x_{Tn}⋅cos(2⋅αₙ) + 2⋅x_{Qn}⋅x_{Tn} + 2⋅x_\n",
       "\n",
       "₁ + 2⋅x_{Qn}⋅cos(αₙ) - 2⋅x_{Tn}⋅cos(αₙ) + 2⋅x_{Tn} - 2⋅y_{Qn}⋅sin(αₙ) + 2⋅y_{T\n",
       "──────────────────────────────────────────────────────────────────────────────\n",
       "______________________________________________________________________________\n",
       "                                                            2                 \n",
       "{Qn}⋅y_{Qn}⋅sin(2⋅αₙ) - 2⋅x_{Qn}⋅y_{Tn}⋅sin(2⋅αₙ) + 4⋅x_{Tn} ⋅cos(αₙ) - x_{Tn}\n",
       "\n",
       "n}⋅sin(αₙ))                                                                   \n",
       "──────────────────────────────────────────────────────────────────────────────\n",
       "______________________________________________________________________________\n",
       "2                     2                                                       \n",
       " ⋅cos(2⋅αₙ) - 3⋅x_{Tn}  + 4⋅x_{Tn}⋅y_{Qn}⋅sin(αₙ) - 2⋅x_{Tn}⋅y_{Qn}⋅sin(2⋅αₙ) \n",
       "\n",
       "                                                                              \n",
       "──────────────────────────────────────────────────────────────────────────────\n",
       "______________________________________________________________________________\n",
       "                                                              2               \n",
       "- 4⋅x_{Tn}⋅y_{Tn}⋅sin(αₙ) + 2⋅x_{Tn}⋅y_{Tn}⋅sin(2⋅αₙ) + y_{Qn} ⋅cos(2⋅αₙ) - y_\n",
       "\n",
       "                                                                              \n",
       "──────────────────────────────────────────────────────────────────────────────\n",
       "______________________________________________________________________________\n",
       "    2                                                       2                 \n",
       "{Qn}  - 2⋅y_{Qn}⋅y_{Tn}⋅cos(2⋅αₙ) + 2⋅y_{Qn}⋅y_{Tn} + y_{Tn} ⋅cos(2⋅αₙ) - y_{T\n",
       "\n",
       "    \n",
       "────\n",
       "____\n",
       "  2 \n",
       "n}  "
      ]
     },
     "execution_count": 22,
     "metadata": {},
     "output_type": "execute_result"
    }
   ],
   "source": [
    "sp.diff(g2[1],x_1)"
   ]
  },
  {
   "cell_type": "code",
   "execution_count": 7,
   "metadata": {
    "collapsed": true
   },
   "outputs": [],
   "source": [
    "class Curve:\n",
    "    def __init__(self, x_Ln, y_Ln, x_Tn, y_Tn, x_Qn, y_Qn, R_Qn):\n",
    "        self.x_Ln = x_Ln\n",
    "        self.y_Ln = y_Ln\n",
    "        self.x_Tn = x_Tn\n",
    "        self.y_Tn = y_Tn\n",
    "        self.x_Qn = x_Qn\n",
    "        self.y_Qn = y_Qn\n",
    "        self.R_Qn = R_Qn\n",
    "    \n",
    "    def xy(self, α_n):\n",
    "        self.α_n = α_n\n",
    "        self.x = np.linspace(-0.5 + self.x_Ln, 0.5 + self.x_Ln, StepsPerChord)\n",
    "        self.y = self.x_Qn*np.sin(self.α_n) - self.x_Tn*np.sin(self.α_n) + self.y_Qn*np.cos(self.α_n) - self.y_Tn*np.cos(self.α_n) + self.y_Tn + np.sqrt(2)*np.sqrt(2*self.R_Qn**2 - 2*self.x**2 + 4*self.x*self.x_Qn*np.cos(α_n) - 4*self.x*self.x_Tn*np.cos(self.α_n) + 4*self.x*self.x_Tn - 4*self.x*self.y_Qn*np.sin(self.α_n) + 4*self.x*self.y_Tn*np.sin(self.α_n) - self.x_Qn**2*np.cos(2*self.α_n) - self.x_Qn**2 - 4*self.x_Qn*self.x_Tn*np.cos(self.α_n) + 2*self.x_Qn*self.x_Tn*np.cos(2*self.α_n) + 2*self.x_Qn*self.x_Tn + 2*self.x_Qn*self.y_Qn*np.sin(2*self.α_n) - 2*self.x_Qn*self.y_Tn*np.sin(2*self.α_n) + 4*self.x_Tn**2*np.cos(self.α_n) - self.x_Tn**2*np.cos(2*self.α_n) - 3*self.x_Tn**2 + 4*self.x_Tn*self.y_Qn*np.sin(self.α_n) - 2*self.x_Tn*self.y_Qn*np.sin(2*self.α_n) - 4*self.x_Tn*self.y_Tn*np.sin(self.α_n) + 2*self.x_Tn*self.y_Tn*np.sin(2*self.α_n) + self.y_Qn**2*np.cos(2*self.α_n) - self.y_Qn**2 - 2*self.y_Qn*self.y_Tn*np.cos(2*self.α_n) + 2*self.y_Qn*self.y_Tn + self.y_Tn**2*np.cos(2*self.α_n) - self.y_Tn**2)/2\n",
    "        self.dydx = np.sqrt(2)*(-2*self.x + 2*self.x_Qn*np.cos(self.α_n) - 2*self.x_Tn*np.cos(self.α_n) + 2*self.x_Tn - 2*self.y_Qn*np.sin(self.α_n) + 2*self.y_Tn*np.sin(self.α_n))/(2*np.sqrt(2*self.R_Qn**2 - 2*self.x**2 + 4*self.x*self.x_Qn*np.cos(α_n) - 4*self.x*self.x_Tn*np.cos(self.α_n) + 4*self.x*self.x_Tn - 4*self.x*self.y_Qn*np.sin(self.α_n) + 4*self.x*self.y_Tn*np.sin(self.α_n) - self.x_Qn**2*np.cos(2*self.α_n) - self.x_Qn**2 - 4*self.x_Qn*self.x_Tn*np.cos(self.α_n) + 2*self.x_Qn*self.x_Tn*np.cos(2*self.α_n) + 2*self.x_Qn*self.x_Tn + 2*self.x_Qn*self.y_Qn*np.sin(2*self.α_n) - 2*self.x_Qn*self.y_Tn*np.sin(2*self.α_n) + 4*self.x_Tn**2*np.cos(self.α_n) - self.x_Tn**2*np.cos(2*self.α_n) - 3*self.x_Tn**2 + 4*self.x_Tn*self.y_Qn*np.sin(self.α_n) - 2*self.x_Tn*self.y_Qn*np.sin(2*self.α_n) - 4*self.x_Tn*self.y_Tn*np.sin(self.α_n) + 2*self.x_Tn*self.y_Tn*np.sin(2*self.α_n) + self.y_Qn**2*np.cos(2*self.α_n) - self.y_Qn**2 - 2*self.y_Qn*self.y_Tn*np.cos(2*self.α_n) + 2*self.y_Qn*self.y_Tn + self.y_Tn**2*np.cos(2*self.α_n) - self.y_Tn**2)) # to push scroll bar\n",
    "\n",
    "    def yForx(self, α_n, xVec):\n",
    "        self.α_n = α_n\n",
    "        self.x = xVec\n",
    "        self.y4x = self.x_Qn*np.sin(self.α_n) - self.x_Tn*np.sin(self.α_n) + self.y_Qn*np.cos(self.α_n) - self.y_Tn*np.cos(self.α_n) + self.y_Tn + np.sqrt(2)*np.sqrt(2*self.R_Qn**2 - 2*self.x**2 + 4*self.x*self.x_Qn*np.cos(α_n) - 4*self.x*self.x_Tn*np.cos(self.α_n) + 4*self.x*self.x_Tn - 4*self.x*self.y_Qn*np.sin(self.α_n) + 4*self.x*self.y_Tn*np.sin(self.α_n) - self.x_Qn**2*np.cos(2*self.α_n) - self.x_Qn**2 - 4*self.x_Qn*self.x_Tn*np.cos(self.α_n) + 2*self.x_Qn*self.x_Tn*np.cos(2*self.α_n) + 2*self.x_Qn*self.x_Tn + 2*self.x_Qn*self.y_Qn*np.sin(2*self.α_n) - 2*self.x_Qn*self.y_Tn*np.sin(2*self.α_n) + 4*self.x_Tn**2*np.cos(self.α_n) - self.x_Tn**2*np.cos(2*self.α_n) - 3*self.x_Tn**2 + 4*self.x_Tn*self.y_Qn*np.sin(self.α_n) - 2*self.x_Tn*self.y_Qn*np.sin(2*self.α_n) - 4*self.x_Tn*self.y_Tn*np.sin(self.α_n) + 2*self.x_Tn*self.y_Tn*np.sin(2*self.α_n) + self.y_Qn**2*np.cos(2*self.α_n) - self.y_Qn**2 - 2*self.y_Qn*self.y_Tn*np.cos(2*self.α_n) + 2*self.y_Qn*self.y_Tn + self.y_Tn**2*np.cos(2*self.α_n) - self.y_Tn**2)/2\n",
    "\n",
    "    def y5to5(self, α_n):\n",
    "        self.α_n = α_n\n",
    "        self.x = np.linspace(-0.5, 0.5, StepsPerChord)\n",
    "        self.y = self.x_Qn*np.sin(self.α_n) - self.x_Tn*np.sin(self.α_n) + self.y_Qn*np.cos(self.α_n) - self.y_Tn*np.cos(self.α_n) + self.y_Tn + np.sqrt(2)*np.sqrt(2*self.R_Qn**2 - 2*self.x**2 + 4*self.x*self.x_Qn*np.cos(α_n) - 4*self.x*self.x_Tn*np.cos(self.α_n) + 4*self.x*self.x_Tn - 4*self.x*self.y_Qn*np.sin(self.α_n) + 4*self.x*self.y_Tn*np.sin(self.α_n) - self.x_Qn**2*np.cos(2*self.α_n) - self.x_Qn**2 - 4*self.x_Qn*self.x_Tn*np.cos(self.α_n) + 2*self.x_Qn*self.x_Tn*np.cos(2*self.α_n) + 2*self.x_Qn*self.x_Tn + 2*self.x_Qn*self.y_Qn*np.sin(2*self.α_n) - 2*self.x_Qn*self.y_Tn*np.sin(2*self.α_n) + 4*self.x_Tn**2*np.cos(self.α_n) - self.x_Tn**2*np.cos(2*self.α_n) - 3*self.x_Tn**2 + 4*self.x_Tn*self.y_Qn*np.sin(self.α_n) - 2*self.x_Tn*self.y_Qn*np.sin(2*self.α_n) - 4*self.x_Tn*self.y_Tn*np.sin(self.α_n) + 2*self.x_Tn*self.y_Tn*np.sin(2*self.α_n) + self.y_Qn**2*np.cos(2*self.α_n) - self.y_Qn**2 - 2*self.y_Qn*self.y_Tn*np.cos(2*self.α_n) + 2*self.y_Qn*self.y_Tn + self.y_Tn**2*np.cos(2*self.α_n) - self.y_Tn**2)/2\n"
   ]
  },
  {
   "cell_type": "code",
   "execution_count": 12,
   "metadata": {},
   "outputs": [
    {
     "data": {
      "image/png": "[encoded data removed]",
      "text/latex": [
       "$$\\left ( -1, \\quad 1, \\quad -1, \\quad 1\\right )$$"
      ],
      "text/plain": [
       "(-1, 1, -1, 1)"
      ]
     },
     "execution_count": 12,
     "metadata": {},
     "output_type": "execute_result"
    },
    {
     "data": {
      "image/png": "[encoded data removed]",
      "text/plain": [
       "<matplotlib.figure.Figure at 0xfa0747ff98>"
      ]
     },
     "metadata": {},
     "output_type": "display_data"
    }
   ],
   "source": [
    "ang_temp = 0*np.pi/180\n",
    "C1 = Curve(x_Lm1, y_Lm1, x_Tm1, y_Tm1, x_Pm1, y_Pm1, R_Pm1)\n",
    "C1.xy(ang_temp)\n",
    "\n",
    "C2 = Curve(x_L0, y_L0, x_T0, y_T0, x_S0, y_S0, R_S0)\n",
    "C2.xy(ang_temp)\n",
    "\n",
    "C3 = Curve(x_L0, y_L0, x_T0, y_T0, x_P0, y_P0, R_P0)\n",
    "C3.xy(ang_temp)\n",
    "\n",
    "C4 = Curve(x_Lp1, y_Lp1, x_Tp1, y_Tp1, x_Sp1, y_Sp1, R_Sp1)\n",
    "C4.xy(ang_temp)\n",
    "\n",
    "\n",
    "plt.figure()\n",
    "plt.plot(C1.x, C1.y, '-m')\n",
    "#plt.plot(C1.x, C1.dydx, '--m')\n",
    "plt.plot(C2.x, C2.y, '-b')\n",
    "plt.plot(C3.x, C3.y, '-r')\n",
    "plt.plot(C4.x, C4.y, '-g')\n",
    "plt.plot(x_Lm1, y_Lm1, 'x')\n",
    "plt.plot(x_L0,  y_L0,  'x')\n",
    "plt.plot(x_Lp1, y_Lp1, 'x')\n",
    "plt.axis((-1, 1 , -1, 1))"
   ]
  },
  {
   "cell_type": "markdown",
   "metadata": {
    "collapsed": true
   },
   "source": [
    "The constants for the six arcs are evaluated for the following geometrical parameters: unit chord, 0.5 pitch-to-chord ratio and 30&deg; stagger. The values are listed below:"
   ]
  },
  {
   "cell_type": "code",
   "execution_count": 15,
   "metadata": {},
   "outputs": [],
   "source": [
    "# A, ω, t, kk = sp.symbols('A, ω, t, kk')\n",
    "\n",
    "\n",
    "t = np.linspace(0,CycNums/Freq,StepsPerCyc*CycNums)\n",
    "A,ω = -Amp*math.pi/180, Freq*math.pi*Freq     # Negative Amp to flip the direction of reference for angle.\n",
    "\n",
    "\n",
    "for ibpa in ibpa_all:\n",
    "    ibpaRad = ibpa*math.pi/180\n",
    "    sIBPA = \"%05.1f\" % ibpa\n",
    "    αm1 = A1*A*np.sin(ω*t + ibpaRad)\n",
    "    α0  = A2*A*np.sin(ω*t)\n",
    "    αp1 = A3*A*np.sin(ω*t - ibpaRad)\n",
    "    \n",
    "    # C1 ordinates\n",
    "    with open(FilePref + \"y_C1_\" + sIBPA + \".txt\", \"wb\") as myfileYC1:\n",
    "        np.savetxt(myfileYC1, ['Time\\talpha_0\\talpha_m1\\talpha_p1' + '\\tx'*StepsPerChord], fmt=\"%s\")\n",
    "        np.savetxt(myfileYC1, np.concatenate([[ibpa]*4,C1.x]), fmt=\"%+15.9e\", delimiter='\\t', newline=' ')\n",
    "        myfileYC1.write(b'\\n')\n",
    "        for i in np.arange(np.size(α0)):\n",
    "            C1 = Curve(x_Lm1, y_Lm1, x_Tm1, y_Tm1, x_Pm1, y_Pm1, R_Pm1)\n",
    "            C1.xy(αm1[i])\n",
    "            myfileYC1.write(b'\\n')\n",
    "            np.savetxt(myfileYC1, np.concatenate([[t[i],α0[i],αm1[i],αp1[i]],C1.y]), fmt=\"%+11.9e\", delimiter='\\t', newline=' ')\n",
    "\n",
    "    # C2 ordinates\n",
    "    with open(FilePref + \"y_C2_\" + sIBPA + \".txt\", \"wb\") as myfileYC2:\n",
    "        np.savetxt(myfileYC2, ['Time\\talpha_0\\talpha_m1\\talpha_p1' + '\\tx'*StepsPerChord], fmt=\"%s\")\n",
    "        np.savetxt(myfileYC2, np.concatenate([[ibpa]*4,C2.x]), fmt=\"%+15.9e\", delimiter='\\t', newline=' ')\n",
    "        myfileYC2.write(b'\\n')\n",
    "        for i in np.arange(np.size(α0)):\n",
    "            C2 = Curve(x_L0, y_L0, x_T0, y_T0, x_S0, y_S0, R_S0)\n",
    "            C2.xy(α0[i])\n",
    "            myfileYC2.write(b'\\n')\n",
    "            np.savetxt(myfileYC2, np.concatenate([[t[i],α0[i],αm1[i],αp1[i]],C2.y]), fmt=\"%+11.9e\", delimiter='\\t', newline=' ')\n",
    "\n",
    "    # C3 ordinates\n",
    "    with open(FilePref + \"y_C3_\" + sIBPA + \".txt\", \"wb\") as myfileYC3:\n",
    "        np.savetxt(myfileYC3, ['Time\\talpha_0\\talpha_m1\\talpha_p1' + '\\tx'*StepsPerChord], fmt=\"%s\")\n",
    "        np.savetxt(myfileYC3, np.concatenate([[ibpa]*4,C3.x]), fmt=\"%+15.9e\", delimiter='\\t', newline=' ')\n",
    "        myfileYC3.write(b'\\n')\n",
    "        for i in np.arange(np.size(α0)):\n",
    "            C3 = Curve(x_L0, y_L0, x_T0, y_T0, x_P0, y_P0, R_P0)\n",
    "            C3.xy(α0[i])\n",
    "            myfileYC3.write(b'\\n')\n",
    "            np.savetxt(myfileYC3, np.concatenate([[t[i],α0[i],αm1[i],αp1[i]],C3.y]), fmt=\"%+11.9e\", delimiter='\\t', newline=' ')\n",
    "\n",
    "    # C4 ordinates\n",
    "    with open(FilePref + \"y_C4_\" + sIBPA + \".txt\", \"wb\") as myfileYC4:\n",
    "        np.savetxt(myfileYC4, ['Time\\talpha_0\\talpha_m1\\talpha_p1' + '\\tx'*StepsPerChord], fmt=\"%s\")\n",
    "        np.savetxt(myfileYC4, np.concatenate([[ibpa]*4,C4.x]), fmt=\"%+15.9e\", delimiter='\\t', newline=' ')\n",
    "        myfileYC4.write(b'\\n')\n",
    "        for i in np.arange(np.size(α0)):\n",
    "            C4 = Curve(x_Lp1, y_Lp1, x_Tp1, y_Tp1, x_Sp1, y_Sp1, R_Sp1)\n",
    "            C4.xy(αp1[i])\n",
    "            myfileYC4.write(b'\\n')\n",
    "            np.savetxt(myfileYC4, np.concatenate([[t[i],α0[i],αm1[i],αp1[i]],C4.y]), fmt=\"%+11.9e\", delimiter='\\t', newline=' ')\n",
    "            \n",
    "    #         \n",
    "    with open(FilePref + \"dydxS_\" + sIBPA + \".txt\", \"wb\") as myfileDYS:\n",
    "        np.savetxt(myfileDYS, ['Time\\talpha_0\\talpha_m1\\talpha_p1' + '\\tx'*StepsPerChord], fmt=\"%s\")\n",
    "        np.savetxt(myfileDYS, np.concatenate([[ibpa]*4,C2.x]), fmt=\"%+15.9e\", delimiter='\\t', newline=' ')\n",
    "        myfileDYS.write(b'\\n')\n",
    "        for i in np.arange(np.size(α0)):\n",
    "            C2 = Curve(x_L0, y_L0, x_T0, y_T0, x_S0, y_S0, R_S0)\n",
    "            C2.xy(α0[i])\n",
    "            myfileDYS.write(b'\\n')\n",
    "            np.savetxt(myfileDYS, np.concatenate([[t[i],α0[i],αm1[i],αp1[i]],C2.dydx]), fmt=\"%+11.9e\", delimiter='\\t', newline=' ')\n",
    "\n",
    "    with open(FilePref + \"dydxP_\" + sIBPA + \".txt\", \"wb\") as myfileDYP:\n",
    "        np.savetxt(myfileDYP, ['Time\\talpha_0\\talpha_m1\\talpha_p1' + '\\tx'*StepsPerChord], fmt=\"%s\")\n",
    "        np.savetxt(myfileDYP, np.concatenate([[ibpa]*4,C3.x]), fmt=\"%+15.9e\", delimiter='\\t', newline=' ')\n",
    "        myfileDYP.write(b'\\n')\n",
    "        for i in np.arange(np.size(α0)):\n",
    "            C3 = Curve(x_L0, y_L0, x_T0, y_T0, x_P0, y_P0, R_P0)\n",
    "            C3.xy(α0[i])\n",
    "            myfileDYP.write(b'\\n')\n",
    "            np.savetxt(myfileDYP, np.concatenate([[t[i],α0[i],αm1[i],αp1[i]],C3.dydx]), fmt=\"%+11.9e\", delimiter='\\t', newline=' ')\n",
    "\n",
    "    with open(FilePref + \"gap_S_\" + sIBPA + \".txt\", \"wb\") as myfileGS:\n",
    "        np.savetxt(myfileGS, ['Time\\talpha_0\\talpha_m1\\talpha_p1' + '\\tx'*StepsPerChord], fmt=\"%s\")\n",
    "        np.savetxt(myfileGS, np.concatenate([[ibpa]*4,C2.x]), fmt=\"%+15.9e\", delimiter='\\t', newline=' ')\n",
    "        myfileGS.write(b'\\n')\n",
    "        for i in np.arange(np.size(α0)):\n",
    "            C2 = Curve(x_L0, y_L0, x_T0, y_T0, x_S0, y_S0, R_S0)\n",
    "            C2.xy(α0[i])\n",
    "            C1 = Curve(x_Lm1, y_Lm1, x_Tm1, y_Tm1, x_Pm1, y_Pm1, R_Pm1)\n",
    "            C1.yForx(αm1[i], C2.x)\n",
    "            gapS = C1.y4x - C2.y\n",
    "            myfileGS.write(b'\\n')\n",
    "            np.savetxt(myfileGS, np.concatenate([[t[i],α0[i],αm1[i],αp1[i]],gapS]), fmt=\"%+11.9e\", delimiter='\\t', newline=' ')\n",
    "\n",
    "    with open(FilePref + \"gap_P_\" + sIBPA + \".txt\", \"wb\") as myfileGP:\n",
    "        np.savetxt(myfileGP, ['Time\\talpha_0\\talpha_m1\\talpha_p1' + '\\tx'*StepsPerChord], fmt=\"%s\")\n",
    "        np.savetxt(myfileGP, np.concatenate([[ibpa]*4,C3.x]), fmt=\"%+15.9e\", delimiter='\\t', newline=' ')\n",
    "        myfileGP.write(b'\\n')\n",
    "        for i in np.arange(np.size(α0)):\n",
    "            C3 = Curve(x_L0, y_L0, x_T0, y_T0, x_P0, y_P0, R_P0)\n",
    "            C3.xy(α0[i])\n",
    "            C4 = Curve(x_Lp1, y_Lp1, x_Tp1, y_Tp1, x_Sp1, y_Sp1, R_Sp1)\n",
    "            C4.yForx(αp1[i], C3.x)\n",
    "            gapS = C1.y4x - C2.y\n",
    "            myfileGP.write(b'\\n')\n",
    "            np.savetxt(myfileGP, np.concatenate([[t[i],α0[i],αm1[i],αp1[i]],gapS]), fmt=\"%+11.9e\", delimiter='\\t', newline=' ')\n",
    "\n",
    "\n"
   ]
  },
  {
   "cell_type": "code",
   "execution_count": null,
   "metadata": {
    "collapsed": true
   },
   "outputs": [],
   "source": [
    "\n",
    "            \n",
    "    with open(FilePref + \"gap_suc_\" + sIBPA + \".txt\", \"wb\") as myfileGS:\n",
    "        np.savetxt(myfileGS, ['Time\\talpha_0\\talpha_m1\\talpha_p1\\tgap_suction'], fmt=\"%s\")\n",
    "        np.savetxt(myfileGS, np.concatenate([[ibpa]*4,x_pts]), fmt=\"%+15.9e\", delimiter='\\t', newline=' ')\n",
    "        myfileGS.write(b'\\n')\n",
    "        for i in np.arange(np.size(α0)):\n",
    "            GS_x = GS.subs([(α_0, α0[i]), (α_m1, αm1[i])])\n",
    "            exp_GS = sp.lambdify(x, GS_x, np)\n",
    "            myfileGS.write(b'\\n')\n",
    "            np.savetxt(myfileGS, np.concatenate([[t[i],α0[i],αm1[i],αp1[i]],exp_GS(x_pts)]), fmt=\"%+11.9e\", delimiter='\\t', newline=' ')\n",
    "\n",
    "    with open(FilePref + \"gap_pre_\" + sIBPA + \".txt\", \"wb\") as myfileGP:\n",
    "        np.savetxt(myfileGP, ['Time\\talpha_0\\talpha_m1\\talpha_p1\\tgap_pressure'], fmt=\"%s\")\n",
    "        np.savetxt(myfileGP, np.concatenate([[ibpa]*4,x_pts]), fmt=\"%+15.9e\", delimiter='\\t', newline=' ')\n",
    "        myfileGP.write(b'\\n')\n",
    "        for i in np.arange(np.size(α0)):\n",
    "            GP_x = GP.subs([(α_0, α0[i]), (α_p1, αp1[i])])\n",
    "            exp_GP = sp.lambdify(x, GP_x, np)\n",
    "            myfileGP.write(b'\\n')\n",
    "            np.savetxt(myfileGP, np.concatenate([[t[i],α0[i],αm1[i],αp1[i]],exp_GP(x_pts)]), fmt=\"%+11.9e\", delimiter='\\t', newline=' ')\n",
    "\n",
    "tEnd = datetime.datetime.now()\n",
    "print(tEnd)\n",
    "print(FilePref)\n",
    "print(tEnd - tStart)"
   ]
  },
  {
   "cell_type": "code",
   "execution_count": null,
   "metadata": {},
   "outputs": [],
   "source": [
    "tEnd = datetime.datetime.now()\n",
    "\n",
    "\n",
    "print('Time elapsed: {:0.1f} minutes'.format((tEnd - tStart).total_seconds()/60))\n",
    "print('From ' + str(tStart) + ' to ' + str(tEnd))\n",
    "print('Red freq = {:0.3f}'.format(2*math.pi*Freq*1/Uref))\n",
    "print(FilePref)"
   ]
  },
  {
   "cell_type": "code",
   "execution_count": null,
   "metadata": {
    "collapsed": true
   },
   "outputs": [],
   "source": []
  }
 ],
 "metadata": {
  "kernelspec": {
   "display_name": "Python 3",
   "language": "python",
   "name": "python3"
  },
  "language_info": {
   "codemirror_mode": {
    "name": "ipython",
    "version": 3
   },
   "file_extension": ".py",
   "mimetype": "text/x-python",
   "name": "python",
   "nbconvert_exporter": "python",
   "pygments_lexer": "ipython3",
   "version": "3.6.1"
  },
  "widgets": {
   "application/vnd.jupyter.widget-state+json": {
    "state": {},
    "version_major": 1,
    "version_minor": 0
   }
  }
 },
 "nbformat": 4,
 "nbformat_minor": 2
}
